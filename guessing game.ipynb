{
 "cells": [
  {
   "cell_type": "code",
   "execution_count": 1,
   "id": "22a5685e",
   "metadata": {},
   "outputs": [],
   "source": [
    "#function that gives user three tries to guess a random number between 1 and 100.\n",
    "import random\n",
    "def guessing_game():\n",
    "    count=3\n",
    "    num=random.randint(1,100)\n",
    "    while count>0:\n",
    "        gss=int(input('guess the number:'))\n",
    "        count-=1\n",
    "        if gss==num:\n",
    "            print('just right')\n",
    "            break\n",
    "        if gss>num:\n",
    "            print('too high')\n",
    "        if gss<num:\n",
    "            print(f'your guess of {num} is too low')\n",
    "    else:\n",
    "        print('TIME OUT')"
   ]
  },
  {
   "cell_type": "code",
   "execution_count": 2,
   "id": "a6bb67e3",
   "metadata": {},
   "outputs": [
    {
     "name": "stdout",
     "output_type": "stream",
     "text": [
      "guess the number:45\n",
      "your guess of 81 is too low\n",
      "guess the number:44\n",
      "your guess of 81 is too low\n",
      "guess the number:33\n",
      "your guess of 81 is too low\n",
      "TIME OUT\n"
     ]
    }
   ],
   "source": [
    "guessing_game()"
   ]
  },
  {
   "cell_type": "code",
   "execution_count": 1,
   "id": "2e6aefb4",
   "metadata": {},
   "outputs": [],
   "source": [
    "# Not only did I choose a random number, I also chose a random number base, from 2 to 16. If the user inputs “10” as their guess,\n",
    "# the function interprets it in the correct number base.\n",
    "import random\n",
    "def guessinggame3(): \n",
    "    answer = random.randint(0, 100)\n",
    "    required_base = random.choice([2, 8, 10, 16])  # binary/octal/decimal/hex\n",
    "\n",
    "    while True:\n",
    "        try:\n",
    "       \n",
    "            user_guess = int(input('What is your guess? '), required_base) #int(str,base) converts the str from the base \n",
    "                                                                           #it was in to base 10\n",
    "            if user_guess == answer:\n",
    "                print(f'Right!  The answer is {user_guess}')\n",
    "                break\n",
    "\n",
    "            if user_guess < answer:\n",
    "                print(f'Your guess of {user_guess} is too low!')\n",
    "\n",
    "            else:\n",
    "                print(f'Your guess of {user_guess} is too high!')\n",
    "        except:\n",
    "            print('enter a number please')"
   ]
  },
  {
   "cell_type": "code",
   "execution_count": 2,
   "id": "2266a20c",
   "metadata": {},
   "outputs": [
    {
     "name": "stdout",
     "output_type": "stream",
     "text": [
      "What is your guess? jj\n",
      "enter a number please\n",
      "What is your guess? 99\n",
      "Your guess of 99 is too high!\n",
      "What is your guess? 66\n",
      "Your guess of 66 is too low!\n",
      "What is your guess? 70\n",
      "Your guess of 70 is too low!\n",
      "What is your guess? 7\n",
      "Your guess of 7 is too low!\n",
      "What is your guess? 76\n",
      "Your guess of 76 is too low!\n",
      "What is your guess? 85\n",
      "Your guess of 85 is too low!\n",
      "What is your guess? 95\n",
      "Your guess of 95 is too high!\n",
      "What is your guess? 94\n",
      "Your guess of 94 is too high!\n",
      "What is your guess? 93\n",
      "Your guess of 93 is too high!\n",
      "What is your guess? 92\n",
      "Right!  The answer is 92\n"
     ]
    }
   ],
   "source": [
    "# Here, the function worked in base 10\n",
    "\n",
    "guessinggame3()"
   ]
  },
  {
   "cell_type": "markdown",
   "id": "22297549",
   "metadata": {},
   "source": []
  }
 ],
 "metadata": {
  "kernelspec": {
   "display_name": "Python 3 (ipykernel)",
   "language": "python",
   "name": "python3"
  },
  "language_info": {
   "codemirror_mode": {
    "name": "ipython",
    "version": 3
   },
   "file_extension": ".py",
   "mimetype": "text/x-python",
   "name": "python",
   "nbconvert_exporter": "python",
   "pygments_lexer": "ipython3",
   "version": "3.9.7"
  }
 },
 "nbformat": 4,
 "nbformat_minor": 5
}
